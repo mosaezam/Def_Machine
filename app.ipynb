{
 "cells": [
  {
   "cell_type": "code",
   "execution_count": 3,
   "metadata": {},
   "outputs": [],
   "source": [
    "import pandas as pd\n",
    "import os\n",
    "from pathlib import Path\n",
    "import pandas as pd\n",
    "import tarfile\n",
    "import urllib.request\n",
    "\n",
    "def load_housing_data_(housing_path='D:/Machine leraningTraining/End-to-End Machine Learning Project'):\n",
    "    csv_path = os.path.join(housing_path, \"housing.csv\")\n",
    "    return pd.read_csv(csv_path)\n",
    "def load_housing_data():\n",
    "    tarball_path = Path(\"D:/Machine leraningTraining/End-to-End Machine Learning Project/datasets/housing.tgz\")\n",
    "    if not tarball_path.is_file():\n",
    "        Path(\"D:/Machine leraningTraining/End-to-End Machine Learning Project/datasets\").mkdir(parents=True, exist_ok=True)\n",
    "        url = \"https://github.com/ageron/data/raw/main/housing.tgz\"\n",
    "        urllib.request.urlretrieve(url, tarball_path)\n",
    "        with tarfile.open(tarball_path) as housing_tarball:\n",
    "            housing_tarball.extractall(path=\"D:/Machine leraningTraining/End-to-End Machine Learning Project/datasets\")\n",
    "    return pd.read_csv(Path(\"D:/Machine leraningTraining/End-to-End Machine Learning Project/datasets/housing/housing.csv\"))\n",
    "housing = load_housing_data()"
   ]
  }
 ],
 "metadata": {
  "kernelspec": {
   "display_name": "Python 3",
   "language": "python",
   "name": "python3"
  },
  "language_info": {
   "codemirror_mode": {
    "name": "ipython",
    "version": 3
   },
   "file_extension": ".py",
   "mimetype": "text/x-python",
   "name": "python",
   "nbconvert_exporter": "python",
   "pygments_lexer": "ipython3",
   "version": "3.12.7"
  }
 },
 "nbformat": 4,
 "nbformat_minor": 2
}
